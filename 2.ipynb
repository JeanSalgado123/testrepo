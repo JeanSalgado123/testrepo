{
 "cells": [
  {
   "cell_type": "markdown",
   "metadata": {},
   "source": [
    "<p style=\"text-align:center\">\n",
    "    <a href=\"https://skills.network\" target=\"_blank\">\n",
    "    <img src=\"https://cf-courses-data.s3.us.cloud-object-storage.appdomain.cloud/assets/logos/SN_web_lightmode.png\" width=\"200\" alt=\"Skills Network Logo\">\n",
    "    </a>\n",
    "</p>\n"
   ]
  },
  {
   "cell_type": "markdown",
   "metadata": {},
   "source": [
    "# **Space X  Falcon 9 First Stage Landing Prediction**\n"
   ]
  },
  {
   "cell_type": "markdown",
   "metadata": {},
   "source": [
    "## Web scraping Falcon 9 and Falcon Heavy Launches Records from Wikipedia\n"
   ]
  },
  {
   "cell_type": "markdown",
   "metadata": {},
   "source": [
    "Estimated time needed: **40** minutes\n"
   ]
  },
  {
   "cell_type": "markdown",
   "metadata": {},
   "source": [
    "In this lab, you will be performing web scraping to collect Falcon 9 historical launch records from a Wikipedia page titled `List of Falcon 9 and Falcon Heavy launches`\n",
    "\n",
    "https://en.wikipedia.org/wiki/List_of_Falcon_9_and_Falcon_Heavy_launches\n"
   ]
  },
  {
   "cell_type": "markdown",
   "metadata": {},
   "source": [
    "![](https://cf-courses-data.s3.us.cloud-object-storage.appdomain.cloud/IBM-DS0321EN-SkillsNetwork/labs/module_1_L2/images/Falcon9_rocket_family.svg)\n"
   ]
  },
  {
   "cell_type": "markdown",
   "metadata": {},
   "source": [
    "Falcon 9 first stage will land successfully\n"
   ]
  },
  {
   "cell_type": "markdown",
   "metadata": {},
   "source": [
    "![](https://cf-courses-data.s3.us.cloud-object-storage.appdomain.cloud/IBMDeveloperSkillsNetwork-DS0701EN-SkillsNetwork/api/Images/landing_1.gif)\n"
   ]
  },
  {
   "cell_type": "markdown",
   "metadata": {},
   "source": [
    "Several examples of an unsuccessful landing are shown here:\n"
   ]
  },
  {
   "cell_type": "markdown",
   "metadata": {},
   "source": [
    "![](https://cf-courses-data.s3.us.cloud-object-storage.appdomain.cloud/IBMDeveloperSkillsNetwork-DS0701EN-SkillsNetwork/api/Images/crash.gif)\n"
   ]
  },
  {
   "cell_type": "markdown",
   "metadata": {},
   "source": [
    "More specifically, the launch records are stored in a HTML table shown below:\n"
   ]
  },
  {
   "cell_type": "markdown",
   "metadata": {},
   "source": [
    "![](https://cf-courses-data.s3.us.cloud-object-storage.appdomain.cloud/IBM-DS0321EN-SkillsNetwork/labs/module_1_L2/images/falcon9-launches-wiki.png)\n"
   ]
  },
  {
   "cell_type": "markdown",
   "metadata": {},
   "source": [
    "  ## Objectives\n",
    "Web scrap Falcon 9 launch records with `BeautifulSoup`: \n",
    "- Extract a Falcon 9 launch records HTML table from Wikipedia\n",
    "- Parse the table and convert it into a Pandas data frame\n"
   ]
  },
  {
   "cell_type": "markdown",
   "metadata": {},
   "source": [
    "First let's import required packages for this lab\n"
   ]
  },
  {
   "cell_type": "code",
   "execution_count": 29,
   "metadata": {
    "tags": []
   },
   "outputs": [
    {
     "name": "stdout",
     "output_type": "stream",
     "text": [
      "Requirement already satisfied: beautifulsoup4 in /home/jupyterlab/conda/envs/python/lib/python3.7/site-packages (4.11.1)\n",
      "Requirement already satisfied: soupsieve>1.2 in /home/jupyterlab/conda/envs/python/lib/python3.7/site-packages (from beautifulsoup4) (2.3.2.post1)\n",
      "Requirement already satisfied: requests in /home/jupyterlab/conda/envs/python/lib/python3.7/site-packages (2.29.0)\n",
      "Requirement already satisfied: charset-normalizer<4,>=2 in /home/jupyterlab/conda/envs/python/lib/python3.7/site-packages (from requests) (3.1.0)\n",
      "Requirement already satisfied: idna<4,>=2.5 in /home/jupyterlab/conda/envs/python/lib/python3.7/site-packages (from requests) (3.4)\n",
      "Requirement already satisfied: urllib3<1.27,>=1.21.1 in /home/jupyterlab/conda/envs/python/lib/python3.7/site-packages (from requests) (1.26.15)\n",
      "Requirement already satisfied: certifi>=2017.4.17 in /home/jupyterlab/conda/envs/python/lib/python3.7/site-packages (from requests) (2023.5.7)\n"
     ]
    }
   ],
   "source": [
    "!pip3 install beautifulsoup4\n",
    "!pip3 install requests"
   ]
  },
  {
   "cell_type": "code",
   "execution_count": 30,
   "metadata": {
    "tags": []
   },
   "outputs": [],
   "source": [
    "import sys\n",
    "\n",
    "import requests\n",
    "from bs4 import BeautifulSoup\n",
    "import re\n",
    "import unicodedata\n",
    "import pandas as pd"
   ]
  },
  {
   "cell_type": "markdown",
   "metadata": {},
   "source": [
    "and we will provide some helper functions for you to process web scraped HTML table\n"
   ]
  },
  {
   "cell_type": "code",
   "execution_count": 31,
   "metadata": {
    "tags": []
   },
   "outputs": [],
   "source": [
    "def date_time(table_cells):\n",
    "    \"\"\"\n",
    "    This function returns the data and time from the HTML  table cell\n",
    "    Input: the  element of a table data cell extracts extra row\n",
    "    \"\"\"\n",
    "    return [data_time.strip() for data_time in list(table_cells.strings)][0:2]\n",
    "\n",
    "def booster_version(table_cells):\n",
    "    \"\"\"\n",
    "    This function returns the booster version from the HTML  table cell \n",
    "    Input: the  element of a table data cell extracts extra row\n",
    "    \"\"\"\n",
    "    out=''.join([booster_version for i,booster_version in enumerate( table_cells.strings) if i%2==0][0:-1])\n",
    "    return out\n",
    "\n",
    "def landing_status(table_cells):\n",
    "    \"\"\"\n",
    "    This function returns the landing status from the HTML table cell \n",
    "    Input: the  element of a table data cell extracts extra row\n",
    "    \"\"\"\n",
    "    out=[i for i in table_cells.strings][0]\n",
    "    return out\n",
    "\n",
    "\n",
    "def get_mass(table_cells):\n",
    "    mass=unicodedata.normalize(\"NFKD\", table_cells.text).strip()\n",
    "    if mass:\n",
    "        mass.find(\"kg\")\n",
    "        new_mass=mass[0:mass.find(\"kg\")+2]\n",
    "    else:\n",
    "        new_mass=0\n",
    "    return new_mass\n",
    "\n",
    "\n",
    "def extract_column_from_header(row):\n",
    "    \"\"\"\n",
    "    This function returns the landing status from the HTML table cell \n",
    "    Input: the  element of a table data cell extracts extra row\n",
    "    \"\"\"\n",
    "    if (row.br):\n",
    "        row.br.extract()\n",
    "    if row.a:\n",
    "        row.a.extract()\n",
    "    if row.sup:\n",
    "        row.sup.extract()\n",
    "        \n",
    "    colunm_name = ' '.join(row.contents)\n",
    "    \n",
    "    # Filter the digit and empty names\n",
    "    if not(colunm_name.strip().isdigit()):\n",
    "        colunm_name = colunm_name.strip()\n",
    "        return colunm_name    \n"
   ]
  },
  {
   "cell_type": "markdown",
   "metadata": {},
   "source": [
    "To keep the lab tasks consistent, you will be asked to scrape the data from a snapshot of the  `List of Falcon 9 and Falcon Heavy launches` Wikipage updated on\n",
    "`9th June 2021`\n"
   ]
  },
  {
   "cell_type": "code",
   "execution_count": 32,
   "metadata": {
    "tags": []
   },
   "outputs": [],
   "source": [
    "static_url = \"https://en.wikipedia.org/w/index.php?title=List_of_Falcon_9_and_Falcon_Heavy_launches&oldid=1027686922\""
   ]
  },
  {
   "cell_type": "markdown",
   "metadata": {},
   "source": [
    "Next, request the HTML page from the above URL and get a `response` object\n"
   ]
  },
  {
   "cell_type": "markdown",
   "metadata": {},
   "source": [
    "### TASK 1: Request the Falcon9 Launch Wiki page from its URL\n"
   ]
  },
  {
   "cell_type": "markdown",
   "metadata": {},
   "source": [
    "First, let's perform an HTTP GET method to request the Falcon9 Launch HTML page, as an HTTP response.\n"
   ]
  },
  {
   "cell_type": "code",
   "execution_count": 33,
   "metadata": {
    "tags": []
   },
   "outputs": [
    {
     "name": "stdout",
     "output_type": "stream",
     "text": [
      "Request was successful!\n",
      "b'<!DOCTYPE html>\\n<html class=\"client-nojs vector-feature-language-in-header-enabled vector-feature-language-in-main-page-header-disabled vector-feature-sticky-header-disabled vector-feature-page-tools-pinned-disabled vector-feature-toc-pinned-clientpref-1 vector-feature-main-menu-pinned-disabled vector-feature-limited-width-clientpref-1 vector-feature-limited-width-content-enabled vector-feature-custom-font-size-clientpref-1 vector-feature-appearance-pinned-clientpref-1 vector-feature-night-mode-'\n"
     ]
    }
   ],
   "source": [
    "import requests\n",
    "\n",
    "url = 'https://en.wikipedia.org/wiki/List_of_Falcon_9_launches'\n",
    "\n",
    "response = requests.get(url)\n",
    "\n",
    "if response.status_code == 200:\n",
    "    print(\"Request was successful!\")\n",
    "    \n",
    "    print(response.content[:500])  # Printing only the first 500 characters for brevity\n",
    "else:\n",
    "    print(f\"Failed to retrieve the page. Status code: {response.status_code}\")\n"
   ]
  },
  {
   "cell_type": "markdown",
   "metadata": {},
   "source": [
    "import requests\n",
    "from bs4 import BeautifulSoup\n",
    "\n",
    "# Step 1: Set the URL for the Falcon 9 Launch Wiki page\n",
    "url = 'https://en.wikipedia.org/wiki/List_of_Falcon_9_launches'\n",
    "\n",
    "# Step 2: Perform the GET request\n",
    "response = requests.get(url)\n",
    "\n",
    "# Step 3: Check if the request was successful (status code 200)\n",
    "if response.status_code == 200:\n",
    "    print(\"Request was successful!\")\n",
    "\n",
    "    # Step 4: Create a BeautifulSoup object from the HTML response\n",
    "    soup = BeautifulSoup(response.content, 'html.parser')\n",
    "    \n",
    "    # Step 5: Optionally, print the first 500 characters of the parsed HTML\n",
    "    print(soup.prettify()[:500])  # Printing only the first 500 characters for brevity\n",
    "else:\n",
    "    print(f\"Failed to retrieve the page. Status code: {response.status_code}\")\n"
   ]
  },
  {
   "cell_type": "code",
   "execution_count": 34,
   "metadata": {
    "tags": []
   },
   "outputs": [
    {
     "name": "stdout",
     "output_type": "stream",
     "text": [
      "Request was successful!\n",
      "<!DOCTYPE html>\n",
      "<html class=\"client-nojs vector-feature-language-in-header-enabled vector-feature-language-in-main-page-header-disabled vector-feature-sticky-header-disabled vector-feature-page-tools-pinned-disabled vector-feature-toc-pinned-clientpref-1 vector-feature-main-menu-pinned-disabled vector-feature-limited-width-clientpref-1 vector-feature-limited-width-content-enabled vector-feature-custom-font-size-clientpref-1 vector-feature-appearance-pinned-clientpref-1 vector-feature-night-mode-\n"
     ]
    }
   ],
   "source": [
    "from bs4 import BeautifulSoup\n",
    "\n",
    "url = 'https://en.wikipedia.org/wiki/List_of_Falcon_9_launches'\n",
    "\n",
    "response = requests.get(url)\n",
    "\n",
    "if response.status_code == 200:\n",
    "    print(\"Request was successful!\")\n",
    "\n",
    "    soup = BeautifulSoup(response.content, 'html.parser')\n",
    "\n",
    "    print(soup.prettify()[:500])  # Printing only the first 500 characters for brevity\n",
    "else:\n",
    "    print(f\"Failed to retrieve the page. Status code: {response.status_code}\")"
   ]
  },
  {
   "cell_type": "markdown",
   "metadata": {},
   "source": [
    "Print the page title to verify if the `BeautifulSoup` object was created properly \n"
   ]
  },
  {
   "cell_type": "code",
   "execution_count": 35,
   "metadata": {
    "tags": []
   },
   "outputs": [
    {
     "name": "stdout",
     "output_type": "stream",
     "text": [
      "Request was successful!\n",
      "Page Title: List of Falcon 9 and Falcon Heavy launches - Wikipedia\n",
      "<!DOCTYPE html>\n",
      "<html class=\"client-nojs vector-feature-language-in-header-enabled vector-feature-language-in-main-page-header-disabled vector-feature-sticky-header-disabled vector-feature-page-tools-pinned-disabled vector-feature-toc-pinned-clientpref-1 vector-feature-main-menu-pinned-disabled vector-feature-limited-width-clientpref-1 vector-feature-limited-width-content-enabled vector-feature-custom-font-size-clientpref-1 vector-feature-appearance-pinned-clientpref-1 vector-feature-night-mode-\n"
     ]
    }
   ],
   "source": [
    "url = 'https://en.wikipedia.org/wiki/List_of_Falcon_9_launches'\n",
    "\n",
    "response = requests.get(url)\n",
    "\n",
    "if response.status_code == 200:\n",
    "    print(\"Request was successful!\")\n",
    "\n",
    "    soup = BeautifulSoup(response.content, 'html.parser')\n",
    "\n",
    "    page_title = soup.title.string\n",
    "    print(f\"Page Title: {page_title}\")\n",
    "\n",
    "    print(soup.prettify()[:500])\n",
    "else:\n",
    "    print(f\"Failed to retrieve the page. Status code: {response.status_code}\")"
   ]
  },
  {
   "cell_type": "markdown",
   "metadata": {},
   "source": [
    "### TASK 2: Extract all column/variable names from the HTML table header\n"
   ]
  },
  {
   "cell_type": "markdown",
   "metadata": {},
   "source": [
    "Next, we want to collect all relevant column names from the HTML table header\n"
   ]
  },
  {
   "cell_type": "markdown",
   "metadata": {},
   "source": [
    "Let's try to find all tables on the wiki page first. If you need to refresh your memory about `BeautifulSoup`, please check the external reference link towards the end of this lab\n"
   ]
  },
  {
   "cell_type": "code",
   "execution_count": 36,
   "metadata": {
    "tags": []
   },
   "outputs": [
    {
     "name": "stdout",
     "output_type": "stream",
     "text": [
      "Request was successful!\n",
      "Column Names:\n",
      "Flight No.\n",
      "Date andtime (UTC)\n",
      "Version,booster[f]\n",
      "Launchsite\n",
      "Payload[g]\n",
      "Payload mass\n",
      "Orbit\n",
      "Customer\n",
      "Launchoutcome\n",
      "Boosterlanding\n"
     ]
    }
   ],
   "source": [
    "url = 'https://en.wikipedia.org/wiki/List_of_Falcon_9_launches'\n",
    "\n",
    "response = requests.get(url)\n",
    "\n",
    "if response.status_code == 200:\n",
    "    print(\"Request was successful!\")\n",
    "\n",
    "    soup = BeautifulSoup(response.content, 'html.parser')\n",
    "    \n",
    "    tables = soup.find_all('table')\n",
    "\n",
    "    if tables:\n",
    "        header_row = tables[0].find('tr')  # Get the first row of the first table\n",
    "        headers = [th.text.strip() for th in header_row.find_all('th')]  # Extract headers\n",
    "        \n",
    "        print(\"Column Names:\")\n",
    "        for header in headers:\n",
    "            print(header)\n",
    "    else:\n",
    "        print(\"No tables found on the page.\")\n",
    "\n",
    "else:\n",
    "    print(f\"Failed to retrieve the page. Status code: {response.status_code}\")"
   ]
  },
  {
   "cell_type": "markdown",
   "metadata": {},
   "source": [
    "Starting from the third table is our target table contains the actual launch records.\n"
   ]
  },
  {
   "cell_type": "code",
   "execution_count": 38,
   "metadata": {
    "tags": []
   },
   "outputs": [
    {
     "name": "stdout",
     "output_type": "stream",
     "text": [
      "Requirement already satisfied: requests in /home/jupyterlab/conda/envs/python/lib/python3.7/site-packages (2.29.0)\n",
      "Requirement already satisfied: pandas in /home/jupyterlab/conda/envs/python/lib/python3.7/site-packages (1.3.5)\n",
      "Requirement already satisfied: beautifulsoup4 in /home/jupyterlab/conda/envs/python/lib/python3.7/site-packages (4.11.1)\n",
      "Requirement already satisfied: charset-normalizer<4,>=2 in /home/jupyterlab/conda/envs/python/lib/python3.7/site-packages (from requests) (3.1.0)\n",
      "Requirement already satisfied: idna<4,>=2.5 in /home/jupyterlab/conda/envs/python/lib/python3.7/site-packages (from requests) (3.4)\n",
      "Requirement already satisfied: urllib3<1.27,>=1.21.1 in /home/jupyterlab/conda/envs/python/lib/python3.7/site-packages (from requests) (1.26.15)\n",
      "Requirement already satisfied: certifi>=2017.4.17 in /home/jupyterlab/conda/envs/python/lib/python3.7/site-packages (from requests) (2023.5.7)\n",
      "Requirement already satisfied: python-dateutil>=2.7.3 in /home/jupyterlab/conda/envs/python/lib/python3.7/site-packages (from pandas) (2.8.2)\n",
      "Requirement already satisfied: pytz>=2017.3 in /home/jupyterlab/conda/envs/python/lib/python3.7/site-packages (from pandas) (2023.3)\n",
      "Requirement already satisfied: numpy>=1.17.3 in /home/jupyterlab/conda/envs/python/lib/python3.7/site-packages (from pandas) (1.21.6)\n",
      "Requirement already satisfied: soupsieve>1.2 in /home/jupyterlab/conda/envs/python/lib/python3.7/site-packages (from beautifulsoup4) (2.3.2.post1)\n",
      "Requirement already satisfied: six>=1.5 in /home/jupyterlab/conda/envs/python/lib/python3.7/site-packages (from python-dateutil>=2.7.3->pandas) (1.16.0)\n",
      "Note: you may need to restart the kernel to use updated packages.\n"
     ]
    }
   ],
   "source": [
    "pip install requests pandas beautifulsoup4\n"
   ]
  },
  {
   "cell_type": "code",
   "execution_count": 40,
   "metadata": {
    "tags": []
   },
   "outputs": [
    {
     "name": "stdout",
     "output_type": "stream",
     "text": [
      "   Date and time (UTC)[400]  \\\n",
      "0      21 October 202422:58   \n",
      "1      21 October 202422:58   \n",
      "2      24 October 202417:15   \n",
      "3      24 October 202417:15   \n",
      "4              October 2024   \n",
      "5              October 2024   \n",
      "6              October 2024   \n",
      "7              October 2024   \n",
      "8      2 November 202403:40   \n",
      "9      2 November 202403:40   \n",
      "10            November 2024   \n",
      "11            November 2024   \n",
      "12            November 2024   \n",
      "13            November 2024   \n",
      "14            November 2024   \n",
      "15            November 2024   \n",
      "16       November 2024[411]   \n",
      "17       November 2024[411]   \n",
      "18       November 2024[414]   \n",
      "19       November 2024[414]   \n",
      "20            November 2024   \n",
      "21            November 2024   \n",
      "22            November 2024   \n",
      "23                2024[417]   \n",
      "24                2024[417]   \n",
      "25                2024[421]   \n",
      "26                2024[421]   \n",
      "27                2024[424]   \n",
      "28                2024[424]   \n",
      "29                2024[417]   \n",
      "30                2024[417]   \n",
      "31                2024[428]   \n",
      "32                2024[428]   \n",
      "33           2024[431][432]   \n",
      "34           2024[431][432]   \n",
      "35                2024[434]   \n",
      "36                2024[434]   \n",
      "37                     2024   \n",
      "38                     2024   \n",
      "39                     2024   \n",
      "40                     2024   \n",
      "41                2024[442]   \n",
      "42                2024[442]   \n",
      "43                     2024   \n",
      "44                     2024   \n",
      "45                     2024   \n",
      "46                     2024   \n",
      "\n",
      "                                   Version,booster[f]  \\\n",
      "0                                               F9 B5   \n",
      "1   Launch of ~23 Starlink v2 mini satellites to a...   \n",
      "2                                               F9 B5   \n",
      "3   Fourth of up to six launches of SpaceX/Northro...   \n",
      "4                                               F9 B5   \n",
      "5   SXM-9 is a high-powered digital audio radio sa...   \n",
      "6                                               F9 B5   \n",
      "7   Launch of ~23 Starlink v2 mini satellites to a...   \n",
      "8                                        F9 B5B1088.1   \n",
      "9   Six additional CRS-2 missions for Dragon 2 wer...   \n",
      "10                                              F9 B5   \n",
      "11  South Korean communications satellite built on...   \n",
      "12                                              F9 B5   \n",
      "13  Firefly Aerospace has selected SpaceX's Falcon...   \n",
      "14                                              F9 B5   \n",
      "15  Dedicated SmallSat Rideshare mission to sun-sy...   \n",
      "16                                              F9 B5   \n",
      "17  Communications satellite built on the Eurostar...   \n",
      "18                                              F9 B5   \n",
      "19      Planned replacement for Thuraya 2 and 3.[415]   \n",
      "20                                              F9 B5   \n",
      "21                                              F9 B5   \n",
      "22  Dedicated SmallSat Rideshare mission to 45 deg...   \n",
      "23                                         F9 B5[418]   \n",
      "24  Launch part of Phase 2 US Space Force contract...   \n",
      "25                                              F9 B5   \n",
      "26  In August 2020, SES expanded the O3b mPOWER co...   \n",
      "27                                    F9 B5[302][359]   \n",
      "28               Maxar Technologies built satellites.   \n",
      "29                                         F9 B5[418]   \n",
      "30  Launch part of Phase 2 US Space Force contract...   \n",
      "31                                              F9 B5   \n",
      "32             A hot backup system for SATRIA-1.[430]   \n",
      "33                                              F9 B5   \n",
      "34  Dedicated Falcon 9 launch to put four Astranis...   \n",
      "35                                              F9 B5   \n",
      "36  Launch part of Phase 2 US Space Force contract...   \n",
      "37                                              F9 B5   \n",
      "38  Indian telecommunications satellite for Dish T...   \n",
      "39                                              F9 B5   \n",
      "40  Originally expected to be a secondary rideshar...   \n",
      "41                                              F9 B5   \n",
      "42  Second lunar lander built by Japanese company ...   \n",
      "43                                              F9 B5   \n",
      "44  1600 kg 2.5 metre diameter reduced scale test ...   \n",
      "45                                              F9 B5   \n",
      "46  Classified mission, part of Phase 2 US Space F...   \n",
      "\n",
      "                                          Launch site  \\\n",
      "0                              Cape Canaveral, SLC‑40   \n",
      "1   Launch of ~23 Starlink v2 mini satellites to a...   \n",
      "2                                  Vandenberg, SLC-4E   \n",
      "3   Fourth of up to six launches of SpaceX/Northro...   \n",
      "4                              Cape Canaveral, SLC‑40   \n",
      "5   SXM-9 is a high-powered digital audio radio sa...   \n",
      "6                                  Vandenberg, SLC-4E   \n",
      "7   Launch of ~23 Starlink v2 mini satellites to a...   \n",
      "8                                     Kennedy, LC‑39A   \n",
      "9   Six additional CRS-2 missions for Dragon 2 wer...   \n",
      "10                             Cape Canaveral, SLC‑40   \n",
      "11  South Korean communications satellite built on...   \n",
      "12                                           TBA (FL)   \n",
      "13  Firefly Aerospace has selected SpaceX's Falcon...   \n",
      "14                                 Vandenberg, SLC‑4E   \n",
      "15  Dedicated SmallSat Rideshare mission to sun-sy...   \n",
      "16                                           TBA (FL)   \n",
      "17  Communications satellite built on the Eurostar...   \n",
      "18                                           TBA (FL)   \n",
      "19      Planned replacement for Thuraya 2 and 3.[415]   \n",
      "20                                           TBA (FL)   \n",
      "21                                           TBA (FL)   \n",
      "22  Dedicated SmallSat Rideshare mission to 45 deg...   \n",
      "23                                      TBA (FL)[419]   \n",
      "24  Launch part of Phase 2 US Space Force contract...   \n",
      "25                                           TBA (FL)   \n",
      "26  In August 2020, SES expanded the O3b mPOWER co...   \n",
      "27                                           TBA (FL)   \n",
      "28               Maxar Technologies built satellites.   \n",
      "29                                           TBA (FL)   \n",
      "30  Launch part of Phase 2 US Space Force contract...   \n",
      "31                                           TBA (FL)   \n",
      "32             A hot backup system for SATRIA-1.[430]   \n",
      "33                                           TBA (FL)   \n",
      "34  Dedicated Falcon 9 launch to put four Astranis...   \n",
      "35                                 Vandenberg, SLC‑4E   \n",
      "36  Launch part of Phase 2 US Space Force contract...   \n",
      "37                                           TBA (FL)   \n",
      "38  Indian telecommunications satellite for Dish T...   \n",
      "39                                           TBA (FL)   \n",
      "40  Originally expected to be a secondary rideshar...   \n",
      "41                                                TBD   \n",
      "42  Second lunar lander built by Japanese company ...   \n",
      "43                                                TBD   \n",
      "44  1600 kg 2.5 metre diameter reduced scale test ...   \n",
      "45                                           TBA (FL)   \n",
      "46  Classified mission, part of Phase 2 US Space F...   \n",
      "\n",
      "                                           Payload[g]  \\\n",
      "0               Starlink: Group 6-61 (~23 satellites)   \n",
      "1   Launch of ~23 Starlink v2 mini satellites to a...   \n",
      "2                NROL-167 (~21 Starshield satellites)   \n",
      "3   Fourth of up to six launches of SpaceX/Northro...   \n",
      "4                                               SXM-9   \n",
      "5   SXM-9 is a high-powered digital audio radio sa...   \n",
      "6               Starlink: Group 11-2 (~23 satellites)   \n",
      "7   Launch of ~23 Starlink v2 mini satellites to a...   \n",
      "8                 SpaceX CRS-31 (Cargo Dragon C208.5)   \n",
      "9   Six additional CRS-2 missions for Dragon 2 wer...   \n",
      "10                                   Koreasat 6A[404]   \n",
      "11  South Korean communications satellite built on...   \n",
      "12                     Blue Ghost Mission 1[407][408]   \n",
      "13  Firefly Aerospace has selected SpaceX's Falcon...   \n",
      "14                Transporter-12 (smallsat rideshare)   \n",
      "15  Dedicated SmallSat Rideshare mission to sun-sy...   \n",
      "16                                 Spainsat-NG I[412]   \n",
      "17  Communications satellite built on the Eurostar...   \n",
      "18                                 Thuraya 4-NGS[415]   \n",
      "19      Planned replacement for Thuraya 2 and 3.[415]   \n",
      "20         Bandwagon-2 (smallsat rideshare)[270][290]   \n",
      "21                               425 Project Flight 3   \n",
      "22  Dedicated SmallSat Rideshare mission to 45 deg...   \n",
      "23                                            USSF-36   \n",
      "24  Launch part of Phase 2 US Space Force contract...   \n",
      "25                                   O3b mPOWER 7 & 8   \n",
      "26  In August 2020, SES expanded the O3b mPOWER co...   \n",
      "27  WorldView Legion 5 & 6 (2 satellites)[425][426...   \n",
      "28               Maxar Technologies built satellites.   \n",
      "29                                            NROL-69   \n",
      "30  Launch part of Phase 2 US Space Force contract...   \n",
      "31                                Nusantara Lima[429]   \n",
      "32             A hot backup system for SATRIA-1.[430]   \n",
      "33                       MicroGEO (4 satellites)[433]   \n",
      "34  Dedicated Falcon 9 launch to put four Astranis...   \n",
      "35               SDA Tranche 1 Transport layer A[435]   \n",
      "36  Launch part of Phase 2 US Space Force contract...   \n",
      "37                                   GSAT-20 (CMS-03)   \n",
      "38  Indian telecommunications satellite for Dish T...   \n",
      "39                          DOGE-1 Possible rideshare   \n",
      "40  Originally expected to be a secondary rideshar...   \n",
      "41                       ispace 2nd lunar lander[443]   \n",
      "42  Second lunar lander built by Japanese company ...   \n",
      "43   Reentry demonstration capsule Possible rideshare   \n",
      "44  1600 kg 2.5 metre diameter reduced scale test ...   \n",
      "45                                       USSF-31[435]   \n",
      "46  Classified mission, part of Phase 2 US Space F...   \n",
      "\n",
      "                                                Orbit  \\\n",
      "0                                                 LEO   \n",
      "1   Launch of ~23 Starlink v2 mini satellites to a...   \n",
      "2                                                 LEO   \n",
      "3   Fourth of up to six launches of SpaceX/Northro...   \n",
      "4                                                 GTO   \n",
      "5   SXM-9 is a high-powered digital audio radio sa...   \n",
      "6                                                 LEO   \n",
      "7   Launch of ~23 Starlink v2 mini satellites to a...   \n",
      "8                                           LEO (ISS)   \n",
      "9   Six additional CRS-2 missions for Dragon 2 wer...   \n",
      "10                                                GTO   \n",
      "11  South Korean communications satellite built on...   \n",
      "12                                                TLI   \n",
      "13  Firefly Aerospace has selected SpaceX's Falcon...   \n",
      "14                                                SSO   \n",
      "15  Dedicated SmallSat Rideshare mission to sun-sy...   \n",
      "16                                                GTO   \n",
      "17  Communications satellite built on the Eurostar...   \n",
      "18                                                GTO   \n",
      "19      Planned replacement for Thuraya 2 and 3.[415]   \n",
      "20                                                LEO   \n",
      "21                                                LEO   \n",
      "22  Dedicated SmallSat Rideshare mission to 45 deg...   \n",
      "23                                                TBA   \n",
      "24  Launch part of Phase 2 US Space Force contract...   \n",
      "25                                                MEO   \n",
      "26  In August 2020, SES expanded the O3b mPOWER co...   \n",
      "27                                                SSO   \n",
      "28               Maxar Technologies built satellites.   \n",
      "29                                                TBA   \n",
      "30  Launch part of Phase 2 US Space Force contract...   \n",
      "31                                               GTO?   \n",
      "32             A hot backup system for SATRIA-1.[430]   \n",
      "33                                                GEO   \n",
      "34  Dedicated Falcon 9 launch to put four Astranis...   \n",
      "35                                          Polar LEO   \n",
      "36  Launch part of Phase 2 US Space Force contract...   \n",
      "37                                                GTO   \n",
      "38  Indian telecommunications satellite for Dish T...   \n",
      "39                                                TLI   \n",
      "40  Originally expected to be a secondary rideshar...   \n",
      "41                                                TLI   \n",
      "42  Second lunar lander built by Japanese company ...   \n",
      "43                                                LEO   \n",
      "44  1600 kg 2.5 metre diameter reduced scale test ...   \n",
      "45                                                TBA   \n",
      "46  Classified mission, part of Phase 2 US Space F...   \n",
      "\n",
      "                                             Customer  \n",
      "0                                              SpaceX  \n",
      "1   Launch of ~23 Starlink v2 mini satellites to a...  \n",
      "2                                                 NRO  \n",
      "3   Fourth of up to six launches of SpaceX/Northro...  \n",
      "4                                           Sirius XM  \n",
      "5   SXM-9 is a high-powered digital audio radio sa...  \n",
      "6                                              SpaceX  \n",
      "7   Launch of ~23 Starlink v2 mini satellites to a...  \n",
      "8                                          NASA (CRS)  \n",
      "9   Six additional CRS-2 missions for Dragon 2 wer...  \n",
      "10                                             KT Sat  \n",
      "11  South Korean communications satellite built on...  \n",
      "12                       Firefly AerospaceNASA (CLPS)  \n",
      "13  Firefly Aerospace has selected SpaceX's Falcon...  \n",
      "14                                            Various  \n",
      "15  Dedicated SmallSat Rideshare mission to sun-sy...  \n",
      "16                                           Hisdesat  \n",
      "17  Communications satellite built on the Eurostar...  \n",
      "18                                            Thuraya  \n",
      "19      Planned replacement for Thuraya 2 and 3.[415]  \n",
      "20                                            Various  \n",
      "21                     Republic of Korea Armed Forces  \n",
      "22  Dedicated SmallSat Rideshare mission to 45 deg...  \n",
      "23                                               USSF  \n",
      "24  Launch part of Phase 2 US Space Force contract...  \n",
      "25                                                SES  \n",
      "26  In August 2020, SES expanded the O3b mPOWER co...  \n",
      "27                                 Maxar Technologies  \n",
      "28               Maxar Technologies built satellites.  \n",
      "29                                               USSF  \n",
      "30  Launch part of Phase 2 US Space Force contract...  \n",
      "31                       PT Pasifik Satelit Nusantara  \n",
      "32             A hot backup system for SATRIA-1.[430]  \n",
      "33                                           Astranis  \n",
      "34  Dedicated Falcon 9 launch to put four Astranis...  \n",
      "35                                                SDA  \n",
      "36  Launch part of Phase 2 US Space Force contract...  \n",
      "37                     New Space India LimitedDish TV  \n",
      "38  Indian telecommunications satellite for Dish T...  \n",
      "39                                   Geometric Energy  \n",
      "40  Originally expected to be a secondary rideshar...  \n",
      "41                                             ispace  \n",
      "42  Second lunar lander built by Japanese company ...  \n",
      "43                            The Exploration Company  \n",
      "44  1600 kg 2.5 metre diameter reduced scale test ...  \n",
      "45                                               USSF  \n",
      "46  Classified mission, part of Phase 2 US Space F...  \n"
     ]
    }
   ],
   "source": [
    "import requests\n",
    "import pandas as pd\n",
    "from bs4 import BeautifulSoup\n",
    "\n",
    "# Passo 1: Fazer a requisição à página\n",
    "url = 'https://en.wikipedia.org/wiki/List_of_Falcon_9_launches'  # Substitua pela URL real da página que contém as tabelas\n",
    "response = requests.get(url)\n",
    "\n",
    "# Passo 2: Verificar se a requisição foi bem-sucedida\n",
    "if response.status_code == 200:\n",
    "    # Passo 3: Criar um objeto BeautifulSoup para analisar o conteúdo\n",
    "    soup = BeautifulSoup(response.content, 'html.parser')\n",
    "    \n",
    "    # Passo 4: Extrair todas as tabelas da página\n",
    "    html_tables = soup.find_all('table')\n",
    "    \n",
    "    # Passo 5: Converter as tabelas em DataFrames do pandas\n",
    "    tables = [pd.read_html(str(table))[0] for table in html_tables]\n",
    "\n",
    "    # Passo 6: Acessar a terceira tabela (índice 2)\n",
    "    if len(tables) > 2:  # Verificar se existem pelo menos 3 tabelas\n",
    "        third_table = tables[2]\n",
    "        print(third_table)\n",
    "    else:\n",
    "        print(\"Menos de 3 tabelas encontradas.\")\n",
    "else:\n",
    "    print(\"Erro ao acessar a página. Código de status:\", response.status_code)\n"
   ]
  },
  {
   "cell_type": "markdown",
   "metadata": {},
   "source": [
    "You should able to see the columns names embedded in the table header elements `<th>` as follows:\n"
   ]
  },
  {
   "cell_type": "markdown",
   "metadata": {},
   "source": [
    "```\n",
    "<tr>\n",
    "<th scope=\"col\">Flight No.\n",
    "</th>\n",
    "<th scope=\"col\">Date and<br/>time (<a href=\"/wiki/Coordinated_Universal_Time\" title=\"Coordinated Universal Time\">UTC</a>)\n",
    "</th>\n",
    "<th scope=\"col\"><a href=\"/wiki/List_of_Falcon_9_first-stage_boosters\" title=\"List of Falcon 9 first-stage boosters\">Version,<br/>Booster</a> <sup class=\"reference\" id=\"cite_ref-booster_11-0\"><a href=\"#cite_note-booster-11\">[b]</a></sup>\n",
    "</th>\n",
    "<th scope=\"col\">Launch site\n",
    "</th>\n",
    "<th scope=\"col\">Payload<sup class=\"reference\" id=\"cite_ref-Dragon_12-0\"><a href=\"#cite_note-Dragon-12\">[c]</a></sup>\n",
    "</th>\n",
    "<th scope=\"col\">Payload mass\n",
    "</th>\n",
    "<th scope=\"col\">Orbit\n",
    "</th>\n",
    "<th scope=\"col\">Customer\n",
    "</th>\n",
    "<th scope=\"col\">Launch<br/>outcome\n",
    "</th>\n",
    "<th scope=\"col\"><a href=\"/wiki/Falcon_9_first-stage_landing_tests\" title=\"Falcon 9 first-stage landing tests\">Booster<br/>landing</a>\n",
    "</th></tr>\n",
    "```\n"
   ]
  },
  {
   "cell_type": "markdown",
   "metadata": {},
   "source": [
    "Next, we just need to iterate through the `<th>` elements and apply the provided `extract_column_from_header()` to extract column name one by one\n"
   ]
  },
  {
   "cell_type": "code",
   "execution_count": 41,
   "metadata": {
    "tags": []
   },
   "outputs": [
    {
     "name": "stdout",
     "output_type": "stream",
     "text": [
      "Request was successful!\n",
      "Column Names:\n",
      "Flight No.\n",
      "Date andtime (UTC)\n",
      "Version,booster[f]\n",
      "Launchsite\n",
      "Payload[g]\n",
      "Payload mass\n",
      "Orbit\n",
      "Customer\n",
      "Launchoutcome\n",
      "Boosterlanding\n"
     ]
    }
   ],
   "source": [
    "url = 'https://en.wikipedia.org/wiki/List_of_Falcon_9_launches'\n",
    "\n",
    "response = requests.get(url)\n",
    "\n",
    "if response.status_code == 200:\n",
    "    print(\"Request was successful!\")\n",
    "\n",
    "    soup = BeautifulSoup(response.content, 'html.parser')\n",
    "\n",
    "    tables = soup.find_all('table')\n",
    "\n",
    "    if tables:\n",
    "        first_launch_table = tables[0]  \n",
    "\n",
    "        def extract_column_from_header(th):\n",
    "            return th.text.strip() if th.text.strip() else None\n",
    "\n",
    "        column_names = []\n",
    "\n",
    "        header_row = first_launch_table.find('tr')\n",
    "        for th in header_row.find_all('th'):\n",
    "            name = extract_column_from_header(th)\n",
    "            if name is not None and len(name) > 0:\n",
    "                column_names.append(name)  \n",
    "\n",
    "        print(\"Column Names:\")\n",
    "        for column in column_names:\n",
    "            print(column)\n",
    "    else:\n",
    "        print(\"No tables found on the page.\")\n",
    "else:\n",
    "    print(f\"Failed to retrieve the page. Status code: {response.status_code}\")"
   ]
  },
  {
   "cell_type": "markdown",
   "metadata": {},
   "source": [
    "Check the extracted column names\n"
   ]
  },
  {
   "cell_type": "code",
   "execution_count": 42,
   "metadata": {
    "tags": []
   },
   "outputs": [
    {
     "name": "stdout",
     "output_type": "stream",
     "text": [
      "['Flight No.', 'Date andtime (UTC)', 'Version,booster[f]', 'Launchsite', 'Payload[g]', 'Payload mass', 'Orbit', 'Customer', 'Launchoutcome', 'Boosterlanding']\n"
     ]
    }
   ],
   "source": [
    "print(column_names)"
   ]
  },
  {
   "cell_type": "markdown",
   "metadata": {},
   "source": [
    "## TASK 3: Create a data frame by parsing the launch HTML tables\n"
   ]
  },
  {
   "cell_type": "markdown",
   "metadata": {},
   "source": [
    "We will create an empty dictionary with keys from the extracted column names in the previous task. Later, this dictionary will be converted into a Pandas dataframe\n"
   ]
  },
  {
   "cell_type": "code",
   "execution_count": 54,
   "metadata": {
    "tags": []
   },
   "outputs": [
    {
     "name": "stdout",
     "output_type": "stream",
     "text": [
      "dict_keys(['Flight No.', 'Launch site', 'Payload', 'Payload mass', 'Orbit', 'Customer', 'Launch outcome', 'Version Booster', 'Booster landing', 'Date', 'Time'])\n",
      "A coluna 'Date and time' não existe no dicionário.\n"
     ]
    }
   ],
   "source": [
    "print(launch_dict.keys())\n",
    "\n",
    "\n",
    "# Vamos supor que o nome correto seja 'Date and time' (ajuste conforme necessário)\n",
    "column_to_remove = 'Date and time'  # Use o nome correto da coluna\n",
    "if column_to_remove in launch_dict:\n",
    "    del launch_dict[column_to_remove]\n",
    "else:\n",
    "    print(f\"A coluna '{column_to_remove}' não existe no dicionário.\")\n",
    "\n",
    "# Continue inicializando os valores do launch_dict\n",
    "launch_dict['Flight No.'] = []\n",
    "launch_dict['Launch site'] = []\n",
    "launch_dict['Payload'] = []\n",
    "launch_dict['Payload mass'] = []\n",
    "launch_dict['Orbit'] = []\n",
    "launch_dict['Customer'] = []\n",
    "launch_dict['Launch outcome'] = []\n",
    "# Adicionando novas colunas\n",
    "launch_dict['Version Booster'] = []\n",
    "launch_dict['Booster landing'] = []\n",
    "launch_dict['Date'] = []\n",
    "launch_dict['Time'] = []\n"
   ]
  },
  {
   "cell_type": "markdown",
   "metadata": {},
   "source": [
    "Next, we just need to fill up the `launch_dict` with launch records extracted from table rows.\n"
   ]
  },
  {
   "cell_type": "markdown",
   "metadata": {},
   "source": [
    "Usually, HTML tables in Wiki pages are likely to contain unexpected annotations and other types of noises, such as reference links `B0004.1[8]`, missing values `N/A [e]`, inconsistent formatting, etc.\n"
   ]
  },
  {
   "cell_type": "markdown",
   "metadata": {},
   "source": [
    "To simplify the parsing process, we have provided an incomplete code snippet below to help you to fill up the `launch_dict`. Please complete the following code snippet with TODOs or you can choose to write your own logic to parse all launch tables:\n"
   ]
  },
  {
   "cell_type": "code",
   "execution_count": 55,
   "metadata": {
    "tags": []
   },
   "outputs": [],
   "source": [
    "extracted_row = 0\n",
    "#Extract each table \n",
    "for table_number,table in enumerate(soup.find_all('table',\"wikitable plainrowheaders collapsible\")):\n",
    "   # get table row \n",
    "    for rows in table.find_all(\"tr\"):\n",
    "        #check to see if first table heading is as number corresponding to launch a number \n",
    "        if rows.th:\n",
    "            if rows.th.string:\n",
    "                flight_number=rows.th.string.strip()\n",
    "                flag=flight_number.isdigit()\n",
    "        else:\n",
    "            flag=False\n",
    "        #get table element \n",
    "        row=rows.find_all('td')\n",
    "        #if it is number save cells in a dictonary \n",
    "        if flag:\n",
    "            extracted_row += 1\n",
    "            # Flight Number value\n",
    "            # TODO: Append the flight_number into launch_dict with key `Flight No.`\n",
    "            #print(flight_number)\n",
    "            datatimelist=date_time(row[0])\n",
    "            \n",
    "            # Date value\n",
    "            # TODO: Append the date into launch_dict with key `Date`\n",
    "            date = datatimelist[0].strip(',')\n",
    "            #print(date)\n",
    "            \n",
    "            # Time value\n",
    "            # TODO: Append the time into launch_dict with key `Time`\n",
    "            time = datatimelist[1]\n",
    "            #print(time)\n",
    "              \n",
    "            # Booster version\n",
    "            # TODO: Append the bv into launch_dict with key `Version Booster`\n",
    "            bv=booster_version(row[1])\n",
    "            if not(bv):\n",
    "                bv=row[1].a.string\n",
    "            print(bv)\n",
    "            \n",
    "            # Launch Site\n",
    "            # TODO: Append the bv into launch_dict with key `Launch Site`\n",
    "            launch_site = row[2].a.string\n",
    "            #print(launch_site)\n",
    "            \n",
    "            # Payload\n",
    "            # TODO: Append the payload into launch_dict with key `Payload`\n",
    "            payload = row[3].a.string\n",
    "            #print(payload)\n",
    "            \n",
    "            # Payload Mass\n",
    "            # TODO: Append the payload_mass into launch_dict with key `Payload mass`\n",
    "            payload_mass = get_mass(row[4])\n",
    "            #print(payload)\n",
    "            \n",
    "            # Orbit\n",
    "            # TODO: Append the orbit into launch_dict with key `Orbit`\n",
    "            orbit = row[5].a.string\n",
    "            #print(orbit)\n",
    "            \n",
    "            # Customer\n",
    "            # TODO: Append the customer into launch_dict with key `Customer`\n",
    "            customer = row[6].a.string\n",
    "            #print(customer)\n",
    "            \n",
    "            # Launch outcome\n",
    "            # TODO: Append the launch_outcome into launch_dict with key `Launch outcome`\n",
    "            launch_outcome = list(row[7].strings)[0]\n",
    "            #print(launch_outcome)\n",
    "            \n",
    "            # Booster landing\n",
    "            # TODO: Append the launch_outcome into launch_dict with key `Booster landing`\n",
    "            booster_landing = landing_status(row[8])\n",
    "            #print(booster_landing)\n",
    "            "
   ]
  },
  {
   "cell_type": "markdown",
   "metadata": {},
   "source": [
    "After you have fill in the parsed launch record values into `launch_dict`, you can create a dataframe from it.\n"
   ]
  },
  {
   "cell_type": "code",
   "execution_count": 56,
   "metadata": {
    "tags": []
   },
   "outputs": [
    {
     "name": "stdout",
     "output_type": "stream",
     "text": [
      "Empty DataFrame\n",
      "Columns: [Flight No., Launch site, Payload, Payload mass, Orbit, Customer, Launch outcome, Version Booster, Booster landing, Date, Time]\n",
      "Index: []\n"
     ]
    }
   ],
   "source": [
    "import pandas as pd\n",
    "\n",
    "# Inicialização do dicionário\n",
    "launch_dict = {\n",
    "    'Flight No.': [],\n",
    "    'Launch site': [],\n",
    "    'Payload': [],\n",
    "    'Payload mass': [],\n",
    "    'Orbit': [],\n",
    "    'Customer': [],\n",
    "    'Launch outcome': [],\n",
    "    'Version Booster': [],\n",
    "    'Booster landing': [],\n",
    "    'Date': [],\n",
    "    'Time': []\n",
    "}\n",
    "\n",
    "# Criação do DataFrame\n",
    "df = pd.DataFrame({key: pd.Series(value, dtype='object') for key, value in launch_dict.items()})\n",
    "\n",
    "# Verificando o DataFrame\n",
    "print(df)\n"
   ]
  },
  {
   "cell_type": "markdown",
   "metadata": {},
   "source": [
    "We can now export it to a <b>CSV</b> for the next section, but to make the answers consistent and in case you have difficulties finishing this lab. \n",
    "\n",
    "Following labs will be using a provided dataset to make each lab independent. \n"
   ]
  },
  {
   "cell_type": "markdown",
   "metadata": {},
   "source": [
    "<code>df.to_csv('spacex_web_scraped.csv', index=False)</code>\n"
   ]
  },
  {
   "cell_type": "markdown",
   "metadata": {},
   "source": [
    "## Authors\n"
   ]
  },
  {
   "cell_type": "code",
   "execution_count": 57,
   "metadata": {
    "tags": []
   },
   "outputs": [
    {
     "ename": "TypeError",
     "evalue": "list indices must be integers or slices, not str",
     "output_type": "error",
     "traceback": [
      "\u001b[0;31m---------------------------------------------------------------------------\u001b[0m",
      "\u001b[0;31mTypeError\u001b[0m                                 Traceback (most recent call last)",
      "\u001b[0;32m/tmp/ipykernel_1227/3029827842.py\u001b[0m in \u001b[0;36m<module>\u001b[0;34m\u001b[0m\n\u001b[0;32m----> 1\u001b[0;31m \u001b[0mfirst_static_fire_date\u001b[0m \u001b[0;34m=\u001b[0m \u001b[0mdata\u001b[0m\u001b[0;34m[\u001b[0m\u001b[0;34m'static_fire_date_utc'\u001b[0m\u001b[0;34m]\u001b[0m\u001b[0;34m.\u001b[0m\u001b[0miloc\u001b[0m\u001b[0;34m[\u001b[0m\u001b[0;36m0\u001b[0m\u001b[0;34m]\u001b[0m\u001b[0;34m\u001b[0m\u001b[0;34m\u001b[0m\u001b[0m\n\u001b[0m\u001b[1;32m      2\u001b[0m \u001b[0myear\u001b[0m \u001b[0;34m=\u001b[0m \u001b[0mpd\u001b[0m\u001b[0;34m.\u001b[0m\u001b[0mto_datetime\u001b[0m\u001b[0;34m(\u001b[0m\u001b[0mfirst_static_fire_date\u001b[0m\u001b[0;34m)\u001b[0m\u001b[0;34m.\u001b[0m\u001b[0myear\u001b[0m\u001b[0;34m\u001b[0m\u001b[0;34m\u001b[0m\u001b[0m\n\u001b[1;32m      3\u001b[0m \u001b[0mprint\u001b[0m\u001b[0;34m(\u001b[0m\u001b[0myear\u001b[0m\u001b[0;34m)\u001b[0m\u001b[0;34m\u001b[0m\u001b[0;34m\u001b[0m\u001b[0m\n",
      "\u001b[0;31mTypeError\u001b[0m: list indices must be integers or slices, not str"
     ]
    }
   ],
   "source": [
    "first_static_fire_date = data['static_fire_date_utc'].iloc[0]\n",
    "year = pd.to_datetime(first_static_fire_date).year\n",
    "print(year)\n"
   ]
  },
  {
   "cell_type": "code",
   "execution_count": 58,
   "metadata": {
    "tags": []
   },
   "outputs": [
    {
     "ename": "TypeError",
     "evalue": "list indices must be integers or slices, not str",
     "output_type": "error",
     "traceback": [
      "\u001b[0;31m---------------------------------------------------------------------------\u001b[0m",
      "\u001b[0;31mTypeError\u001b[0m                                 Traceback (most recent call last)",
      "\u001b[0;32m/tmp/ipykernel_1227/337860872.py\u001b[0m in \u001b[0;36m<module>\u001b[0;34m\u001b[0m\n\u001b[0;32m----> 1\u001b[0;31m \u001b[0mfalcon9_count\u001b[0m \u001b[0;34m=\u001b[0m \u001b[0mdata\u001b[0m\u001b[0;34m[\u001b[0m\u001b[0mdata\u001b[0m\u001b[0;34m[\u001b[0m\u001b[0;34m'BoosterVersion'\u001b[0m\u001b[0;34m]\u001b[0m\u001b[0;34m.\u001b[0m\u001b[0mstr\u001b[0m\u001b[0;34m.\u001b[0m\u001b[0mcontains\u001b[0m\u001b[0;34m(\u001b[0m\u001b[0;34m'Falcon 9'\u001b[0m\u001b[0;34m)\u001b[0m\u001b[0;34m]\u001b[0m\u001b[0;34m.\u001b[0m\u001b[0mshape\u001b[0m\u001b[0;34m[\u001b[0m\u001b[0;36m0\u001b[0m\u001b[0;34m]\u001b[0m\u001b[0;34m\u001b[0m\u001b[0;34m\u001b[0m\u001b[0m\n\u001b[0m\u001b[1;32m      2\u001b[0m \u001b[0mprint\u001b[0m\u001b[0;34m(\u001b[0m\u001b[0mfalcon9_count\u001b[0m\u001b[0;34m)\u001b[0m\u001b[0;34m\u001b[0m\u001b[0;34m\u001b[0m\u001b[0m\n",
      "\u001b[0;31mTypeError\u001b[0m: list indices must be integers or slices, not str"
     ]
    }
   ],
   "source": [
    "falcon9_count = data[data['BoosterVersion'].str.contains('Falcon 9')].shape[0]\n",
    "print(falcon9_count)\n"
   ]
  },
  {
   "cell_type": "code",
   "execution_count": 51,
   "metadata": {
    "tags": []
   },
   "outputs": [
    {
     "name": "stdout",
     "output_type": "stream",
     "text": [
      "Número de lançamentos do Falcon 9: 0\n"
     ]
    },
    {
     "ename": "KeyError",
     "evalue": "'landing_pad'",
     "output_type": "error",
     "traceback": [
      "\u001b[0;31m---------------------------------------------------------------------------\u001b[0m",
      "\u001b[0;31mKeyError\u001b[0m                                  Traceback (most recent call last)",
      "\u001b[0;32m~/conda/envs/python/lib/python3.7/site-packages/pandas/core/indexes/base.py\u001b[0m in \u001b[0;36mget_loc\u001b[0;34m(self, key, method, tolerance)\u001b[0m\n\u001b[1;32m   3360\u001b[0m             \u001b[0;32mtry\u001b[0m\u001b[0;34m:\u001b[0m\u001b[0;34m\u001b[0m\u001b[0;34m\u001b[0m\u001b[0m\n\u001b[0;32m-> 3361\u001b[0;31m                 \u001b[0;32mreturn\u001b[0m \u001b[0mself\u001b[0m\u001b[0;34m.\u001b[0m\u001b[0m_engine\u001b[0m\u001b[0;34m.\u001b[0m\u001b[0mget_loc\u001b[0m\u001b[0;34m(\u001b[0m\u001b[0mcasted_key\u001b[0m\u001b[0;34m)\u001b[0m\u001b[0;34m\u001b[0m\u001b[0;34m\u001b[0m\u001b[0m\n\u001b[0m\u001b[1;32m   3362\u001b[0m             \u001b[0;32mexcept\u001b[0m \u001b[0mKeyError\u001b[0m \u001b[0;32mas\u001b[0m \u001b[0merr\u001b[0m\u001b[0;34m:\u001b[0m\u001b[0;34m\u001b[0m\u001b[0;34m\u001b[0m\u001b[0m\n",
      "\u001b[0;32m~/conda/envs/python/lib/python3.7/site-packages/pandas/_libs/index.pyx\u001b[0m in \u001b[0;36mpandas._libs.index.IndexEngine.get_loc\u001b[0;34m()\u001b[0m\n",
      "\u001b[0;32m~/conda/envs/python/lib/python3.7/site-packages/pandas/_libs/index.pyx\u001b[0m in \u001b[0;36mpandas._libs.index.IndexEngine.get_loc\u001b[0;34m()\u001b[0m\n",
      "\u001b[0;32mpandas/_libs/hashtable_class_helper.pxi\u001b[0m in \u001b[0;36mpandas._libs.hashtable.PyObjectHashTable.get_item\u001b[0;34m()\u001b[0m\n",
      "\u001b[0;32mpandas/_libs/hashtable_class_helper.pxi\u001b[0m in \u001b[0;36mpandas._libs.hashtable.PyObjectHashTable.get_item\u001b[0;34m()\u001b[0m\n",
      "\u001b[0;31mKeyError\u001b[0m: 'landing_pad'",
      "\nThe above exception was the direct cause of the following exception:\n",
      "\u001b[0;31mKeyError\u001b[0m                                  Traceback (most recent call last)",
      "\u001b[0;32m/tmp/ipykernel_1227/3056469927.py\u001b[0m in \u001b[0;36m<module>\u001b[0;34m\u001b[0m\n\u001b[1;32m     18\u001b[0m \u001b[0;34m\u001b[0m\u001b[0m\n\u001b[1;32m     19\u001b[0m     \u001b[0;31m# Passo 4: Contar valores faltantes na coluna landingPad\u001b[0m\u001b[0;34m\u001b[0m\u001b[0;34m\u001b[0m\u001b[0;34m\u001b[0m\u001b[0m\n\u001b[0;32m---> 20\u001b[0;31m     \u001b[0mmissing_landing_pad\u001b[0m \u001b[0;34m=\u001b[0m \u001b[0mdata\u001b[0m\u001b[0;34m[\u001b[0m\u001b[0;34m'landing_pad'\u001b[0m\u001b[0;34m]\u001b[0m\u001b[0;34m.\u001b[0m\u001b[0misnull\u001b[0m\u001b[0;34m(\u001b[0m\u001b[0;34m)\u001b[0m\u001b[0;34m.\u001b[0m\u001b[0msum\u001b[0m\u001b[0;34m(\u001b[0m\u001b[0;34m)\u001b[0m\u001b[0;34m\u001b[0m\u001b[0;34m\u001b[0m\u001b[0m\n\u001b[0m\u001b[1;32m     21\u001b[0m     \u001b[0mprint\u001b[0m\u001b[0;34m(\u001b[0m\u001b[0;34m\"Valores faltantes na coluna landingPad:\"\u001b[0m\u001b[0;34m,\u001b[0m \u001b[0mmissing_landing_pad\u001b[0m\u001b[0;34m)\u001b[0m\u001b[0;34m\u001b[0m\u001b[0;34m\u001b[0m\u001b[0m\n\u001b[1;32m     22\u001b[0m \u001b[0;34m\u001b[0m\u001b[0m\n",
      "\u001b[0;32m~/conda/envs/python/lib/python3.7/site-packages/pandas/core/frame.py\u001b[0m in \u001b[0;36m__getitem__\u001b[0;34m(self, key)\u001b[0m\n\u001b[1;32m   3456\u001b[0m             \u001b[0;32mif\u001b[0m \u001b[0mself\u001b[0m\u001b[0;34m.\u001b[0m\u001b[0mcolumns\u001b[0m\u001b[0;34m.\u001b[0m\u001b[0mnlevels\u001b[0m \u001b[0;34m>\u001b[0m \u001b[0;36m1\u001b[0m\u001b[0;34m:\u001b[0m\u001b[0;34m\u001b[0m\u001b[0;34m\u001b[0m\u001b[0m\n\u001b[1;32m   3457\u001b[0m                 \u001b[0;32mreturn\u001b[0m \u001b[0mself\u001b[0m\u001b[0;34m.\u001b[0m\u001b[0m_getitem_multilevel\u001b[0m\u001b[0;34m(\u001b[0m\u001b[0mkey\u001b[0m\u001b[0;34m)\u001b[0m\u001b[0;34m\u001b[0m\u001b[0;34m\u001b[0m\u001b[0m\n\u001b[0;32m-> 3458\u001b[0;31m             \u001b[0mindexer\u001b[0m \u001b[0;34m=\u001b[0m \u001b[0mself\u001b[0m\u001b[0;34m.\u001b[0m\u001b[0mcolumns\u001b[0m\u001b[0;34m.\u001b[0m\u001b[0mget_loc\u001b[0m\u001b[0;34m(\u001b[0m\u001b[0mkey\u001b[0m\u001b[0;34m)\u001b[0m\u001b[0;34m\u001b[0m\u001b[0;34m\u001b[0m\u001b[0m\n\u001b[0m\u001b[1;32m   3459\u001b[0m             \u001b[0;32mif\u001b[0m \u001b[0mis_integer\u001b[0m\u001b[0;34m(\u001b[0m\u001b[0mindexer\u001b[0m\u001b[0;34m)\u001b[0m\u001b[0;34m:\u001b[0m\u001b[0;34m\u001b[0m\u001b[0;34m\u001b[0m\u001b[0m\n\u001b[1;32m   3460\u001b[0m                 \u001b[0mindexer\u001b[0m \u001b[0;34m=\u001b[0m \u001b[0;34m[\u001b[0m\u001b[0mindexer\u001b[0m\u001b[0;34m]\u001b[0m\u001b[0;34m\u001b[0m\u001b[0;34m\u001b[0m\u001b[0m\n",
      "\u001b[0;32m~/conda/envs/python/lib/python3.7/site-packages/pandas/core/indexes/base.py\u001b[0m in \u001b[0;36mget_loc\u001b[0;34m(self, key, method, tolerance)\u001b[0m\n\u001b[1;32m   3361\u001b[0m                 \u001b[0;32mreturn\u001b[0m \u001b[0mself\u001b[0m\u001b[0;34m.\u001b[0m\u001b[0m_engine\u001b[0m\u001b[0;34m.\u001b[0m\u001b[0mget_loc\u001b[0m\u001b[0;34m(\u001b[0m\u001b[0mcasted_key\u001b[0m\u001b[0;34m)\u001b[0m\u001b[0;34m\u001b[0m\u001b[0;34m\u001b[0m\u001b[0m\n\u001b[1;32m   3362\u001b[0m             \u001b[0;32mexcept\u001b[0m \u001b[0mKeyError\u001b[0m \u001b[0;32mas\u001b[0m \u001b[0merr\u001b[0m\u001b[0;34m:\u001b[0m\u001b[0;34m\u001b[0m\u001b[0;34m\u001b[0m\u001b[0m\n\u001b[0;32m-> 3363\u001b[0;31m                 \u001b[0;32mraise\u001b[0m \u001b[0mKeyError\u001b[0m\u001b[0;34m(\u001b[0m\u001b[0mkey\u001b[0m\u001b[0;34m)\u001b[0m \u001b[0;32mfrom\u001b[0m \u001b[0merr\u001b[0m\u001b[0;34m\u001b[0m\u001b[0;34m\u001b[0m\u001b[0m\n\u001b[0m\u001b[1;32m   3364\u001b[0m \u001b[0;34m\u001b[0m\u001b[0m\n\u001b[1;32m   3365\u001b[0m         \u001b[0;32mif\u001b[0m \u001b[0mis_scalar\u001b[0m\u001b[0;34m(\u001b[0m\u001b[0mkey\u001b[0m\u001b[0;34m)\u001b[0m \u001b[0;32mand\u001b[0m \u001b[0misna\u001b[0m\u001b[0;34m(\u001b[0m\u001b[0mkey\u001b[0m\u001b[0;34m)\u001b[0m \u001b[0;32mand\u001b[0m \u001b[0;32mnot\u001b[0m \u001b[0mself\u001b[0m\u001b[0;34m.\u001b[0m\u001b[0mhasnans\u001b[0m\u001b[0;34m:\u001b[0m\u001b[0;34m\u001b[0m\u001b[0;34m\u001b[0m\u001b[0m\n",
      "\u001b[0;31mKeyError\u001b[0m: 'landing_pad'"
     ]
    }
   ],
   "source": [
    "import requests\n",
    "import pandas as pd\n",
    "\n",
    "# Passo 1: Requisição GET na API do SpaceX\n",
    "url = 'https://api.spacexdata.com/v4/launches'\n",
    "response = requests.get(url)\n",
    "\n",
    "if response.status_code == 200:\n",
    "    # Passo 2: Converter a resposta em um DataFrame\n",
    "    launches_data = response.json()\n",
    "    data = pd.json_normalize(launches_data)\n",
    "    \n",
    "    # Agora você pode realizar as operações a seguir com o DataFrame 'data'\n",
    "    \n",
    "    # Passo 3: Contar lançamentos do Falcon 9\n",
    "    falcon9_count = data[data['rocket'].str.contains('Falcon 9')].shape[0]\n",
    "    print(\"Número de lançamentos do Falcon 9:\", falcon9_count)\n",
    "    \n",
    "    # Passo 4: Contar valores faltantes na coluna landingPad\n",
    "    missing_landing_pad = data['landing_pad'].isnull().sum()\n",
    "    print(\"Valores faltantes na coluna landingPad:\", missing_landing_pad)\n",
    "    \n",
    "    # Passo 5: Para verificar o título da página Wiki do Falcon 9\n",
    "    from bs4 import BeautifulSoup\n",
    "\n",
    "    wiki_url = 'https://en.wikipedia.org/wiki/List_of_Falcon_9_launches'\n",
    "    wiki_response = requests.get(wiki_url)\n",
    "\n",
    "    if wiki_response.status_code == 200:\n",
    "        soup = BeautifulSoup(wiki_response.content, 'html.parser')\n",
    "        title = soup.title.string\n",
    "        print(\"Título da página Wiki:\", title)\n",
    "else:\n",
    "    print(\"Erro ao acessar a API. Código de status:\", response.status_code)\n"
   ]
  },
  {
   "cell_type": "code",
   "execution_count": 59,
   "metadata": {
    "tags": []
   },
   "outputs": [
    {
     "name": "stdout",
     "output_type": "stream",
     "text": [
      "Index(['static_fire_date_utc', 'static_fire_date_unix', 'net', 'window',\n",
      "       'rocket', 'success', 'failures', 'details', 'crew', 'ships', 'capsules',\n",
      "       'payloads', 'launchpad', 'flight_number', 'name', 'date_utc',\n",
      "       'date_unix', 'date_local', 'date_precision', 'upcoming', 'cores',\n",
      "       'auto_update', 'tbd', 'launch_library_id', 'id', 'fairings.reused',\n",
      "       'fairings.recovery_attempt', 'fairings.recovered', 'fairings.ships',\n",
      "       'links.patch.small', 'links.patch.large', 'links.reddit.campaign',\n",
      "       'links.reddit.launch', 'links.reddit.media', 'links.reddit.recovery',\n",
      "       'links.flickr.small', 'links.flickr.original', 'links.presskit',\n",
      "       'links.webcast', 'links.youtube_id', 'links.article', 'links.wikipedia',\n",
      "       'fairings'],\n",
      "      dtype='object')\n"
     ]
    }
   ],
   "source": [
    "import pandas as pd\n",
    "import requests\n",
    "\n",
    "# Passo 1: Fazer a requisição à API do SpaceX\n",
    "response = requests.get('https://api.spacexdata.com/v4/launches')\n",
    "data = response.json()\n",
    "\n",
    "# Passo 2: Criar o DataFrame\n",
    "df = pd.json_normalize(data)\n",
    "\n",
    "# Passo 3: Verificar os nomes das colunas\n",
    "print(df.columns)\n"
   ]
  },
  {
   "cell_type": "code",
   "execution_count": 60,
   "metadata": {
    "tags": []
   },
   "outputs": [
    {
     "name": "stdout",
     "output_type": "stream",
     "text": [
      "Valores faltantes na coluna launchpad: 0\n"
     ]
    }
   ],
   "source": [
    "# Passo 4: Contar valores faltantes na coluna launchpad\n",
    "missing_landing_pad = df['launchpad'].isnull().sum()\n",
    "print(\"Valores faltantes na coluna launchpad:\", missing_landing_pad)\n"
   ]
  },
  {
   "cell_type": "code",
   "execution_count": null,
   "metadata": {},
   "outputs": [],
   "source": [
    "KeyError                                  Traceback (most recent call last)\n",
    "~/conda/envs/python/lib/python3.7/site-packages/pandas/core/indexes/base.py in get_loc(self, key, method, tolerance)\n",
    "   3360             try:\n",
    "-> 3361                 return self._engine.get_loc(casted_key)\n",
    "   3362             except KeyError as err:\n",
    "\n",
    "~/conda/envs/python/lib/python3.7/site-packages/pandas/_libs/index.pyx in pandas._libs.index.IndexEngine.get_loc()\n",
    "\n",
    "~/conda/envs/python/lib/python3.7/site-packages/pandas/_libs/index.pyx in pandas._libs.index.IndexEngine.get_loc()\n",
    "\n",
    "pandas/_libs/hashtable_class_helper.pxi in pandas._libs.hashtable.PyObjectHashTable.get_item()\n",
    "\n",
    "pandas/_libs/hashtable_class_helper.pxi in pandas._libs.hashtable.PyObjectHashTable.get_item()\n",
    "\n",
    "KeyError: 'landing_pad'\n",
    "\n",
    "The above exception was the direct cause of the following exception:\n",
    "\n",
    "KeyError                                  Traceback (most recent call last)\n",
    "/tmp/ipykernel_1227/3056469927.py in <module>\n",
    "     18 \n",
    "     19     # Passo 4: Contar valores faltantes na coluna landingPad\n",
    "---> 20     missing_landing_pad = data['landing_pad'].isnull().sum()\n",
    "     21     print(\"Valores faltantes na coluna landingPad:\", missing_landing_pad)\n",
    "     22 \n",
    "\n",
    "~/conda/envs/python/lib/python3.7/site-packages/pandas/core/frame.py in __getitem__(self, key)\n",
    "   3456             if self.columns.nlevels > 1:\n",
    "   3457                 return self._getitem_multilevel(key)\n",
    "-> 3458             indexer = self.columns.get_loc(key)\n",
    "   3459             if is_integer(indexer):\n",
    "   3460                 indexer = [indexer]\n",
    "\n",
    "~/conda/envs/python/lib/python3.7/site-packages/pandas/core/indexes/base.py in get_loc(self, key, method, tolerance)\n",
    "   3361                 return self._engine.get_loc(casted_key)\n",
    "   3362             except KeyError as err:\n",
    "-> 3363                 raise KeyError(key) from err\n",
    "   3364 \n",
    "   3365         if is_scalar(key) and isna(key) and not self.hasnans:\n",
    "\n",
    "KeyError: 'landing_pad'\n"
   ]
  },
  {
   "cell_type": "code",
   "execution_count": 52,
   "metadata": {
    "tags": []
   },
   "outputs": [
    {
     "name": "stdout",
     "output_type": "stream",
     "text": [
      "Total de lançamentos do Falcon 9: 0\n"
     ]
    }
   ],
   "source": [
    "import pandas as pd\n",
    "import requests\n",
    "\n",
    "# Passo 1: Fazer a requisição à API do SpaceX\n",
    "response = requests.get('https://api.spacexdata.com/v4/launches')\n",
    "data = response.json()\n",
    "\n",
    "# Passo 2: Criar o DataFrame\n",
    "df = pd.json_normalize(data)\n",
    "\n",
    "# Passo 3: Filtrar lançamentos do Falcon 9\n",
    "falcon_9_launches = df[df['rocket'] == 'Falcon 9']\n",
    "\n",
    "# Passo 4: Contar os lançamentos do Falcon 9\n",
    "count_falcon_9 = len(falcon_9_launches)\n",
    "print(\"Total de lançamentos do Falcon 9:\", count_falcon_9)\n"
   ]
  },
  {
   "cell_type": "code",
   "execution_count": 53,
   "metadata": {
    "tags": []
   },
   "outputs": [
    {
     "name": "stdout",
     "output_type": "stream",
     "text": [
      "Valores faltantes na coluna landingPad: 0\n"
     ]
    }
   ],
   "source": [
    "# Passo 5: Contar valores faltantes na coluna landingPad\n",
    "missing_landing_pad = df['launchpad'].isnull().sum()  # Corrigi para 'launchpad', que é o nome correto\n",
    "print(\"Valores faltantes na coluna landingPad:\", missing_landing_pad)\n"
   ]
  },
  {
   "cell_type": "code",
   "execution_count": 22,
   "metadata": {
    "tags": []
   },
   "outputs": [
    {
     "name": "stdout",
     "output_type": "stream",
     "text": [
      "Colunas disponíveis: Index(['static_fire_date_utc', 'static_fire_date_unix', 'net', 'window',\n",
      "       'rocket', 'success', 'failures', 'details', 'crew', 'ships', 'capsules',\n",
      "       'payloads', 'launchpad', 'flight_number', 'name', 'date_utc',\n",
      "       'date_unix', 'date_local', 'date_precision', 'upcoming', 'cores',\n",
      "       'auto_update', 'tbd', 'launch_library_id', 'id', 'fairings.reused',\n",
      "       'fairings.recovery_attempt', 'fairings.recovered', 'fairings.ships',\n",
      "       'links.patch.small', 'links.patch.large', 'links.reddit.campaign',\n",
      "       'links.reddit.launch', 'links.reddit.media', 'links.reddit.recovery',\n",
      "       'links.flickr.small', 'links.flickr.original', 'links.presskit',\n",
      "       'links.webcast', 'links.youtube_id', 'links.article', 'links.wikipedia',\n",
      "       'fairings'],\n",
      "      dtype='object')\n",
      "Número de lançamentos do Falcon 9: 0\n",
      "Valores faltantes na coluna launchpad: 0\n",
      "Título da página Wiki: List of Falcon 9 and Falcon Heavy launches - Wikipedia\n"
     ]
    }
   ],
   "source": [
    "import requests\n",
    "import pandas as pd\n",
    "from bs4 import BeautifulSoup\n",
    "\n",
    "# Passo 1: Requisição GET na API do SpaceX\n",
    "url = 'https://api.spacexdata.com/v4/launches'\n",
    "response = requests.get(url)\n",
    "\n",
    "if response.status_code == 200:\n",
    "    # Passo 2: Converter a resposta em um DataFrame\n",
    "    launches_data = response.json()\n",
    "    data = pd.json_normalize(launches_data)\n",
    "\n",
    "    # Exibir as colunas para verificar os nomes\n",
    "    print(\"Colunas disponíveis:\", data.columns)\n",
    "    \n",
    "    # Passo 3: Contar lançamentos do Falcon 9\n",
    "    falcon9_count = data[data['rocket'].str.contains('Falcon 9')].shape[0]\n",
    "    print(\"Número de lançamentos do Falcon 9:\", falcon9_count)\n",
    "    \n",
    "    # Passo 4: Contar valores faltantes na coluna launchpad\n",
    "    missing_launch_pad = data['launchpad'].isnull().sum()  # Alterado para 'launchpad'\n",
    "    print(\"Valores faltantes na coluna launchpad:\", missing_launch_pad)\n",
    "    \n",
    "    # Passo 5: Para verificar o título da página Wiki do Falcon 9\n",
    "    wiki_url = 'https://en.wikipedia.org/wiki/List_of_Falcon_9_launches'\n",
    "    wiki_response = requests.get(wiki_url)\n",
    "\n",
    "    if wiki_response.status_code == 200:\n",
    "        soup = BeautifulSoup(wiki_response.content, 'html.parser')\n",
    "        title = soup.title.string\n",
    "        print(\"Título da página Wiki:\", title)\n",
    "else:\n",
    "    print(\"Erro ao acessar a API. Código de status:\", response.status_code)\n"
   ]
  },
  {
   "cell_type": "code",
   "execution_count": 19,
   "metadata": {
    "tags": []
   },
   "outputs": [
    {
     "name": "stdout",
     "output_type": "stream",
     "text": [
      "<title>List of Falcon 9 and Falcon Heavy launches - Wikipedia</title>\n"
     ]
    }
   ],
   "source": [
    "title = soup.title\n",
    "print(title)"
   ]
  },
  {
   "cell_type": "markdown",
   "metadata": {},
   "source": [
    "<a href=\"https://www.linkedin.com/in/yan-luo-96288783/\">Yan Luo</a>\n"
   ]
  },
  {
   "cell_type": "code",
   "execution_count": 23,
   "metadata": {
    "tags": []
   },
   "outputs": [
    {
     "name": "stdout",
     "output_type": "stream",
     "text": [
      "Ano da primeira linha da coluna static_fire_date_utc: 2006\n"
     ]
    }
   ],
   "source": [
    "first_year = pd.to_datetime(data['static_fire_date_utc'].iloc[0]).year\n",
    "print(\"Ano da primeira linha da coluna static_fire_date_utc:\", first_year)\n"
   ]
  },
  {
   "cell_type": "markdown",
   "metadata": {},
   "source": [
    "<a href=\"https://www.linkedin.com/in/nayefaboutayoun/\">Nayef Abou Tayoun</a>\n"
   ]
  },
  {
   "cell_type": "code",
   "execution_count": 24,
   "metadata": {
    "tags": []
   },
   "outputs": [
    {
     "name": "stdout",
     "output_type": "stream",
     "text": [
      "Ano da primeira linha da coluna static_fire_date_utc: 2006\n"
     ]
    }
   ],
   "source": [
    "import requests\n",
    "import pandas as pd\n",
    "\n",
    "# Passo 1: Requisição GET na API do SpaceX\n",
    "url = 'https://api.spacexdata.com/v4/launches'\n",
    "response = requests.get(url)\n",
    "\n",
    "if response.status_code == 200:\n",
    "    # Passo 2: Converter a resposta em um DataFrame\n",
    "    launches_data = response.json()\n",
    "    data = pd.json_normalize(launches_data)\n",
    "\n",
    "    # Passo 3: Obter o ano da primeira linha da coluna static_fire_date_utc\n",
    "    first_year = pd.to_datetime(data['static_fire_date_utc'].iloc[0]).year\n",
    "    print(\"Ano da primeira linha da coluna static_fire_date_utc:\", first_year)\n",
    "else:\n",
    "    print(\"Erro ao acessar a API. Código de status:\", response.status_code)\n"
   ]
  },
  {
   "cell_type": "markdown",
   "metadata": {},
   "source": [
    "<!--\n",
    "## Change Log\n",
    "-->\n"
   ]
  },
  {
   "cell_type": "code",
   "execution_count": 25,
   "metadata": {
    "tags": []
   },
   "outputs": [
    {
     "name": "stdout",
     "output_type": "stream",
     "text": [
      "Número de lançamentos do Falcon 9: 0\n"
     ]
    }
   ],
   "source": [
    "import requests\n",
    "import pandas as pd\n",
    "\n",
    "# Passo 1: Requisição GET na API do SpaceX\n",
    "url = 'https://api.spacexdata.com/v4/launches'\n",
    "response = requests.get(url)\n",
    "\n",
    "if response.status_code == 200:\n",
    "    # Passo 2: Converter a resposta em um DataFrame\n",
    "    launches_data = response.json()\n",
    "    data = pd.json_normalize(launches_data)\n",
    "\n",
    "    # Passo 3: Contar lançamentos do Falcon 9 (excluindo o Falcon 1)\n",
    "    falcon9_count = data[data['rocket'].str.contains('Falcon 9')].shape[0]\n",
    "    print(\"Número de lançamentos do Falcon 9:\", falcon9_count)\n",
    "else:\n",
    "    print(\"Erro ao acessar a API. Código de status:\", response.status_code)\n"
   ]
  },
  {
   "cell_type": "markdown",
   "metadata": {},
   "source": [
    "<!--\n",
    "| Date (YYYY-MM-DD) | Version | Changed By | Change Description      |\n",
    "| ----------------- | ------- | ---------- | ----------------------- |\n",
    "| 2021-06-09        | 1.0     | Yan Luo    | Tasks updates           |\n",
    "| 2020-11-10        | 1.0     | Nayef      | Created the initial version |\n",
    "-->\n"
   ]
  },
  {
   "cell_type": "code",
   "execution_count": 26,
   "metadata": {
    "tags": []
   },
   "outputs": [
    {
     "name": "stdout",
     "output_type": "stream",
     "text": [
      "Valores faltantes na coluna landingPad: 0\n"
     ]
    }
   ],
   "source": [
    "import requests\n",
    "import pandas as pd\n",
    "\n",
    "# Passo 1: Requisição GET na API do SpaceX\n",
    "url = 'https://api.spacexdata.com/v4/launches'\n",
    "response = requests.get(url)\n",
    "\n",
    "if response.status_code == 200:\n",
    "    # Passo 2: Converter a resposta em um DataFrame\n",
    "    launches_data = response.json()\n",
    "    data = pd.json_normalize(launches_data)\n",
    "\n",
    "    # Passo 3: Contar valores faltantes na coluna landingPad\n",
    "    # A coluna correta pode ser 'launchpad', mas verifique se está certo no seu caso\n",
    "    missing_landing_pad = data['launchpad'].isnull().sum()  # Use 'landing_pad' se existir\n",
    "    print(\"Valores faltantes na coluna landingPad:\", missing_landing_pad)\n",
    "else:\n",
    "    print(\"Erro ao acessar a API. Código de status:\", response.status_code)\n"
   ]
  },
  {
   "cell_type": "markdown",
   "metadata": {},
   "source": [
    "Copyright © 2021 IBM Corporation. All rights reserved.\n"
   ]
  },
  {
   "cell_type": "code",
   "execution_count": 27,
   "metadata": {
    "tags": []
   },
   "outputs": [
    {
     "name": "stdout",
     "output_type": "stream",
     "text": [
      "Conteúdo da coluna 'rocket': ['5e9d0d95eda69955f709d1eb' '5e9d0d95eda69973a809d1ec'\n",
      " '5e9d0d95eda69974db09d1ed']\n",
      "Número de lançamentos do Falcon 9: 0\n"
     ]
    }
   ],
   "source": [
    "import requests\n",
    "import pandas as pd\n",
    "\n",
    "# Passo 1: Requisição GET na API do SpaceX\n",
    "url = 'https://api.spacexdata.com/v4/launches'\n",
    "response = requests.get(url)\n",
    "\n",
    "if response.status_code == 200:\n",
    "    # Passo 2: Converter a resposta em um DataFrame\n",
    "    launches_data = response.json()\n",
    "    data = pd.json_normalize(launches_data)\n",
    "\n",
    "    # Passo 3: Verificar o conteúdo da coluna 'rocket'\n",
    "    print(\"Conteúdo da coluna 'rocket':\", data['rocket'].unique())  # Verifique quais valores estão aqui\n",
    "\n",
    "    # Passo 4: Contar lançamentos do Falcon 9\n",
    "    falcon9_count = data[data['rocket'].str.contains('Falcon 9', na=False)].shape[0]\n",
    "    print(\"Número de lançamentos do Falcon 9:\", falcon9_count)\n",
    "else:\n",
    "    print(\"Erro ao acessar a API. Código de status:\", response.status_code)\n"
   ]
  },
  {
   "cell_type": "code",
   "execution_count": 28,
   "metadata": {
    "tags": []
   },
   "outputs": [
    {
     "name": "stdout",
     "output_type": "stream",
     "text": [
      "Conteúdo da coluna 'launchpad': 0\n",
      "Valores faltantes na coluna launchpad: 0\n"
     ]
    }
   ],
   "source": [
    "import requests\n",
    "import pandas as pd\n",
    "\n",
    "# Passo 1: Requisição GET na API do SpaceX\n",
    "url = 'https://api.spacexdata.com/v4/launches'\n",
    "response = requests.get(url)\n",
    "\n",
    "if response.status_code == 200:\n",
    "    # Passo 2: Converter a resposta em um DataFrame\n",
    "    launches_data = response.json()\n",
    "    data = pd.json_normalize(launches_data)\n",
    "\n",
    "    # Passo 3: Verificar o conteúdo da coluna 'launchpad'\n",
    "    print(\"Conteúdo da coluna 'launchpad':\", data['launchpad'].isnull().sum())  # Verifique se existem valores nulos\n",
    "\n",
    "    # Passo 4: Contar valores faltantes na coluna launchpad\n",
    "    missing_landing_pad = data['launchpad'].isnull().sum()\n",
    "    print(\"Valores faltantes na coluna launchpad:\", missing_landing_pad)\n",
    "else:\n",
    "    print(\"Erro ao acessar a API. Código de status:\", response.status_code)\n"
   ]
  },
  {
   "cell_type": "code",
   "execution_count": null,
   "metadata": {},
   "outputs": [],
   "source": []
  }
 ],
 "metadata": {
  "kernelspec": {
   "display_name": "Python",
   "language": "python",
   "name": "conda-env-python-py"
  },
  "language_info": {
   "codemirror_mode": {
    "name": "ipython",
    "version": 3
   },
   "file_extension": ".py",
   "mimetype": "text/x-python",
   "name": "python",
   "nbconvert_exporter": "python",
   "pygments_lexer": "ipython3",
   "version": "3.7.12"
  },
  "prev_pub_hash": "64f1b0aac408997185c47caba18730e0028b75e7934a0e5bf0ae73c5cb7ba677"
 },
 "nbformat": 4,
 "nbformat_minor": 4
}
